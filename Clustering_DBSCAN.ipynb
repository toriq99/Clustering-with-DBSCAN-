{
 "cells": [
  {
   "cell_type": "code",
   "execution_count": 1,
   "metadata": {},
   "outputs": [],
   "source": [
    "import numpy as np\n",
    "import pandas as pd\n",
    "from sklearn.cluster import DBSCAN\n",
    "from collections import Counter\n",
    "from sklearn.preprocessing import StandardScaler\n",
    "import matplotlib.pyplot as plt\n",
    "from pylab import rcParams\n",
    "rcParams['figure.figsize'] = 14, 6\n",
    "\n",
    "%matplotlib inline"
   ]
  },
  {
   "cell_type": "markdown",
   "metadata": {},
   "source": [
    "## Step 1 : Preprocessing Data"
   ]
  },
  {
   "cell_type": "code",
   "execution_count": 2,
   "metadata": {},
   "outputs": [
    {
     "data": {
      "text/html": [
       "<div>\n",
       "<style scoped>\n",
       "    .dataframe tbody tr th:only-of-type {\n",
       "        vertical-align: middle;\n",
       "    }\n",
       "\n",
       "    .dataframe tbody tr th {\n",
       "        vertical-align: top;\n",
       "    }\n",
       "\n",
       "    .dataframe thead th {\n",
       "        text-align: right;\n",
       "    }\n",
       "</style>\n",
       "<table border=\"1\" class=\"dataframe\">\n",
       "  <thead>\n",
       "    <tr style=\"text-align: right;\">\n",
       "      <th></th>\n",
       "      <th>Name</th>\n",
       "      <th>Jersey Number</th>\n",
       "      <th>Club</th>\n",
       "      <th>Position</th>\n",
       "      <th>Nationality</th>\n",
       "      <th>Age</th>\n",
       "      <th>Appearances</th>\n",
       "      <th>Wins</th>\n",
       "      <th>Losses</th>\n",
       "      <th>Goals</th>\n",
       "      <th>...</th>\n",
       "      <th>Punches</th>\n",
       "      <th>High Claims</th>\n",
       "      <th>Catches</th>\n",
       "      <th>Sweeper clearances</th>\n",
       "      <th>Throw outs</th>\n",
       "      <th>Goal Kicks</th>\n",
       "      <th>Yellow cards</th>\n",
       "      <th>Red cards</th>\n",
       "      <th>Fouls</th>\n",
       "      <th>Offsides</th>\n",
       "    </tr>\n",
       "  </thead>\n",
       "  <tbody>\n",
       "    <tr>\n",
       "      <th>0</th>\n",
       "      <td>Bernd Leno</td>\n",
       "      <td>1.0</td>\n",
       "      <td>Arsenal</td>\n",
       "      <td>Goalkeeper</td>\n",
       "      <td>Germany</td>\n",
       "      <td>28.0</td>\n",
       "      <td>64</td>\n",
       "      <td>28</td>\n",
       "      <td>16</td>\n",
       "      <td>0</td>\n",
       "      <td>...</td>\n",
       "      <td>34.0</td>\n",
       "      <td>26.0</td>\n",
       "      <td>17.0</td>\n",
       "      <td>28.0</td>\n",
       "      <td>375.0</td>\n",
       "      <td>489.0</td>\n",
       "      <td>2</td>\n",
       "      <td>0</td>\n",
       "      <td>0</td>\n",
       "      <td>NaN</td>\n",
       "    </tr>\n",
       "    <tr>\n",
       "      <th>1</th>\n",
       "      <td>Matt Macey</td>\n",
       "      <td>33.0</td>\n",
       "      <td>Arsenal</td>\n",
       "      <td>Goalkeeper</td>\n",
       "      <td>England</td>\n",
       "      <td>26.0</td>\n",
       "      <td>0</td>\n",
       "      <td>0</td>\n",
       "      <td>0</td>\n",
       "      <td>0</td>\n",
       "      <td>...</td>\n",
       "      <td>0.0</td>\n",
       "      <td>0.0</td>\n",
       "      <td>0.0</td>\n",
       "      <td>0.0</td>\n",
       "      <td>0.0</td>\n",
       "      <td>0.0</td>\n",
       "      <td>0</td>\n",
       "      <td>0</td>\n",
       "      <td>0</td>\n",
       "      <td>NaN</td>\n",
       "    </tr>\n",
       "    <tr>\n",
       "      <th>2</th>\n",
       "      <td>Rúnar Alex Rúnarsson</td>\n",
       "      <td>13.0</td>\n",
       "      <td>Arsenal</td>\n",
       "      <td>Goalkeeper</td>\n",
       "      <td>Iceland</td>\n",
       "      <td>25.0</td>\n",
       "      <td>0</td>\n",
       "      <td>0</td>\n",
       "      <td>0</td>\n",
       "      <td>0</td>\n",
       "      <td>...</td>\n",
       "      <td>0.0</td>\n",
       "      <td>0.0</td>\n",
       "      <td>0.0</td>\n",
       "      <td>0.0</td>\n",
       "      <td>0.0</td>\n",
       "      <td>0.0</td>\n",
       "      <td>0</td>\n",
       "      <td>0</td>\n",
       "      <td>0</td>\n",
       "      <td>NaN</td>\n",
       "    </tr>\n",
       "    <tr>\n",
       "      <th>3</th>\n",
       "      <td>Héctor Bellerín</td>\n",
       "      <td>2.0</td>\n",
       "      <td>Arsenal</td>\n",
       "      <td>Defender</td>\n",
       "      <td>Spain</td>\n",
       "      <td>25.0</td>\n",
       "      <td>160</td>\n",
       "      <td>90</td>\n",
       "      <td>37</td>\n",
       "      <td>7</td>\n",
       "      <td>...</td>\n",
       "      <td>NaN</td>\n",
       "      <td>NaN</td>\n",
       "      <td>NaN</td>\n",
       "      <td>NaN</td>\n",
       "      <td>NaN</td>\n",
       "      <td>NaN</td>\n",
       "      <td>23</td>\n",
       "      <td>0</td>\n",
       "      <td>125</td>\n",
       "      <td>8.0</td>\n",
       "    </tr>\n",
       "    <tr>\n",
       "      <th>4</th>\n",
       "      <td>Kieran Tierney</td>\n",
       "      <td>3.0</td>\n",
       "      <td>Arsenal</td>\n",
       "      <td>Defender</td>\n",
       "      <td>Scotland</td>\n",
       "      <td>23.0</td>\n",
       "      <td>16</td>\n",
       "      <td>7</td>\n",
       "      <td>5</td>\n",
       "      <td>1</td>\n",
       "      <td>...</td>\n",
       "      <td>NaN</td>\n",
       "      <td>NaN</td>\n",
       "      <td>NaN</td>\n",
       "      <td>NaN</td>\n",
       "      <td>NaN</td>\n",
       "      <td>NaN</td>\n",
       "      <td>2</td>\n",
       "      <td>0</td>\n",
       "      <td>9</td>\n",
       "      <td>0.0</td>\n",
       "    </tr>\n",
       "  </tbody>\n",
       "</table>\n",
       "<p>5 rows × 59 columns</p>\n",
       "</div>"
      ],
      "text/plain": [
       "                   Name  Jersey Number     Club    Position Nationality   Age  \\\n",
       "0            Bernd Leno            1.0  Arsenal  Goalkeeper     Germany  28.0   \n",
       "1            Matt Macey           33.0  Arsenal  Goalkeeper     England  26.0   \n",
       "2  Rúnar Alex Rúnarsson           13.0  Arsenal  Goalkeeper     Iceland  25.0   \n",
       "3       Héctor Bellerín            2.0  Arsenal    Defender       Spain  25.0   \n",
       "4        Kieran Tierney            3.0  Arsenal    Defender    Scotland  23.0   \n",
       "\n",
       "   Appearances  Wins  Losses  Goals  ...  Punches  High Claims  Catches  \\\n",
       "0           64    28      16      0  ...     34.0         26.0     17.0   \n",
       "1            0     0       0      0  ...      0.0          0.0      0.0   \n",
       "2            0     0       0      0  ...      0.0          0.0      0.0   \n",
       "3          160    90      37      7  ...      NaN          NaN      NaN   \n",
       "4           16     7       5      1  ...      NaN          NaN      NaN   \n",
       "\n",
       "   Sweeper clearances  Throw outs  Goal Kicks  Yellow cards  Red cards Fouls  \\\n",
       "0                28.0       375.0       489.0             2          0     0   \n",
       "1                 0.0         0.0         0.0             0          0     0   \n",
       "2                 0.0         0.0         0.0             0          0     0   \n",
       "3                 NaN         NaN         NaN            23          0   125   \n",
       "4                 NaN         NaN         NaN             2          0     9   \n",
       "\n",
       "   Offsides  \n",
       "0       NaN  \n",
       "1       NaN  \n",
       "2       NaN  \n",
       "3       8.0  \n",
       "4       0.0  \n",
       "\n",
       "[5 rows x 59 columns]"
      ]
     },
     "execution_count": 2,
     "metadata": {},
     "output_type": "execute_result"
    }
   ],
   "source": [
    "dataset = pd.read_csv('dataset - 2020-09-24.csv')\n",
    "df = dataset.copy()\n",
    "df.head()"
   ]
  },
  {
   "cell_type": "code",
   "execution_count": 20,
   "metadata": {},
   "outputs": [
    {
     "name": "stdout",
     "output_type": "stream",
     "text": [
      "<class 'pandas.core.frame.DataFrame'>\n",
      "RangeIndex: 571 entries, 0 to 570\n",
      "Data columns (total 59 columns):\n",
      " #   Column                  Non-Null Count  Dtype  \n",
      "---  ------                  --------------  -----  \n",
      " 0   Name                    571 non-null    object \n",
      " 1   Jersey Number           571 non-null    float64\n",
      " 2   Club                    571 non-null    object \n",
      " 3   Position                571 non-null    object \n",
      " 4   Nationality             571 non-null    object \n",
      " 5   Age                     571 non-null    float64\n",
      " 6   Appearances             571 non-null    int64  \n",
      " 7   Wins                    571 non-null    int64  \n",
      " 8   Losses                  571 non-null    int64  \n",
      " 9   Goals                   571 non-null    int64  \n",
      " 10  Goals per match         571 non-null    float64\n",
      " 11  Headed goals            571 non-null    float64\n",
      " 12  Goals with right foot   571 non-null    float64\n",
      " 13  Goals with left foot    571 non-null    float64\n",
      " 14  Penalties scored        571 non-null    float64\n",
      " 15  Freekicks scored        571 non-null    float64\n",
      " 16  Shots                   571 non-null    float64\n",
      " 17  Shots on target         571 non-null    float64\n",
      " 18  Shooting accuracy %     571 non-null    object \n",
      " 19  Hit woodwork            571 non-null    float64\n",
      " 20  Big chances missed      571 non-null    float64\n",
      " 21  Clean sheets            571 non-null    float64\n",
      " 22  Goals conceded          571 non-null    float64\n",
      " 23  Tackles                 571 non-null    float64\n",
      " 24  Tackle success %        571 non-null    object \n",
      " 25  Last man tackles        571 non-null    float64\n",
      " 26  Blocked shots           571 non-null    float64\n",
      " 27  Interceptions           571 non-null    float64\n",
      " 28  Clearances              571 non-null    float64\n",
      " 29  Headed Clearance        571 non-null    float64\n",
      " 30  Clearances off line     571 non-null    float64\n",
      " 31  Recoveries              571 non-null    float64\n",
      " 32  Duels won               571 non-null    float64\n",
      " 33  Duels lost              571 non-null    float64\n",
      " 34  Successful 50/50s       571 non-null    float64\n",
      " 35  Aerial battles won      571 non-null    float64\n",
      " 36  Aerial battles lost     571 non-null    float64\n",
      " 37  Own goals               571 non-null    float64\n",
      " 38  Errors leading to goal  571 non-null    float64\n",
      " 39  Assists                 571 non-null    int64  \n",
      " 40  Passes                  571 non-null    int64  \n",
      " 41  Passes per match        571 non-null    float64\n",
      " 42  Big chances created     571 non-null    float64\n",
      " 43  Crosses                 571 non-null    float64\n",
      " 44  Cross accuracy %        571 non-null    object \n",
      " 45  Through balls           571 non-null    float64\n",
      " 46  Accurate long balls     571 non-null    float64\n",
      " 47  Saves                   571 non-null    float64\n",
      " 48  Penalties saved         571 non-null    float64\n",
      " 49  Punches                 571 non-null    float64\n",
      " 50  High Claims             571 non-null    float64\n",
      " 51  Catches                 571 non-null    float64\n",
      " 52  Sweeper clearances      571 non-null    float64\n",
      " 53  Throw outs              571 non-null    float64\n",
      " 54  Goal Kicks              571 non-null    float64\n",
      " 55  Yellow cards            571 non-null    int64  \n",
      " 56  Red cards               571 non-null    int64  \n",
      " 57  Fouls                   571 non-null    int64  \n",
      " 58  Offsides                571 non-null    float64\n",
      "dtypes: float64(43), int64(9), object(7)\n",
      "memory usage: 263.3+ KB\n"
     ]
    }
   ],
   "source": [
    "# Mengisi nilai NaN dengan value 0\n",
    "df = df.fillna(value = 0)\n",
    "df.info()"
   ]
  },
  {
   "cell_type": "code",
   "execution_count": 21,
   "metadata": {
    "scrolled": false
   },
   "outputs": [
    {
     "data": {
      "image/png": "[encoded data removed]",
      "text/plain": [
       "<Figure size 432x288 with 1 Axes>"
      ]
     },
     "metadata": {
      "needs_background": "light"
     },
     "output_type": "display_data"
    }
   ],
   "source": [
    "# visualisasi point sebelum clustering\n",
    "\n",
    "_ = plt.plot(df['Age'], df['Goals'],\n",
    "            marker = '.', linewidth = 0, color = '#128128')\n",
    "_ = plt.grid(which = 'major', color = '#cccccc', alpha = 0.45)\n",
    "_ = plt.title('Jumlah Goals berdasarkan Usia', family = 'arial', fontsize = 12)\n",
    "_ = plt.xlabel('Age')\n",
    "_ = plt.ylabel('Goals')\n",
    "_ = plt.show()"
   ]
  },
  {
   "cell_type": "markdown",
   "metadata": {},
   "source": [
    "## Step 2 : DBSCAN Algorithm"
   ]
  },
  {
   "cell_type": "code",
   "execution_count": 45,
   "metadata": {},
   "outputs": [
    {
     "data": {
      "text/plain": [
       "array([[28.,  0.],\n",
       "       [26.,  0.],\n",
       "       [25.,  0.],\n",
       "       ...,\n",
       "       [24.,  5.],\n",
       "       [18.,  0.],\n",
       "       [20.,  0.]], dtype=float32)"
      ]
     },
     "execution_count": 45,
     "metadata": {},
     "output_type": "execute_result"
    }
   ],
   "source": [
    "dbscan_data = df[['Age', 'Goals']]\n",
    "\n",
    "# Mengubah / memastikan type value ke dalam float\n",
    "dbscan_data = dbscan_data.values.astype('float32', copy = False)\n",
    "dbscan_data"
   ]
  },
  {
   "cell_type": "code",
   "execution_count": 46,
   "metadata": {},
   "outputs": [
    {
     "data": {
      "text/plain": [
       "array([[ 0.50117993, -0.4362705 ],\n",
       "       [ 0.05681077, -0.4362705 ],\n",
       "       [-0.1653738 , -0.4362705 ],\n",
       "       ...,\n",
       "       [-0.38755837, -0.13857636],\n",
       "       [-1.7206658 , -0.4362705 ],\n",
       "       [-1.2762966 , -0.4362705 ]], dtype=float32)"
      ]
     },
     "execution_count": 46,
     "metadata": {},
     "output_type": "execute_result"
    }
   ],
   "source": [
    "# Normalisasi Data\n",
    "dbscan_data_scaler = StandardScaler().fit(dbscan_data)\n",
    "dbscan_data = dbscan_data_scaler.transform(dbscan_data)\n",
    "dbscan_data"
   ]
  },
  {
   "cell_type": "code",
   "execution_count": 60,
   "metadata": {},
   "outputs": [
    {
     "data": {
      "text/plain": [
       "DBSCAN(eps=0.25)"
      ]
     },
     "execution_count": 60,
     "metadata": {},
     "output_type": "execute_result"
    }
   ],
   "source": [
    "# Model DBSCAN\n",
    "'''\n",
    "eps = float, default=0.5\n",
    "min_samples = int, default=5\n",
    "\n",
    "untuk dokumetasi lebih : https://scikit-learn.org/stable/modules/generated/sklearn.cluster.DBSCAN.html\n",
    "\n",
    "'''\n",
    "\n",
    "model = DBSCAN(eps = 0.25, min_samples = 5, metric = 'euclidean').fit(dbscan_data)\n",
    "model"
   ]
  },
  {
   "cell_type": "markdown",
   "metadata": {},
   "source": [
    "## Step 3 : Visualisasi Hasil"
   ]
  },
  {
   "cell_type": "code",
   "execution_count": 70,
   "metadata": {},
   "outputs": [
    {
     "name": "stdout",
     "output_type": "stream",
     "text": [
      "Counter({0: 506, -1: 55, 2: 5, 1: 5})\n",
      "                         Name  Jersey Number                      Club  \\\n",
      "10                 David Luiz           23.0                   Arsenal   \n",
      "13                 Mesut Özil           10.0                   Arsenal   \n",
      "24  Pierre-Emerick Aubameyang           14.0                   Arsenal   \n",
      "29                    Willian           12.0                   Arsenal   \n",
      "76               Adam Lallana           14.0  Brighton-and-Hove-Albion   \n",
      "\n",
      "      Position Nationality   Age  Appearances  Wins  Losses  Goals  ...  \\\n",
      "10    Defender      Brazil  33.0          194   113      38     13  ...   \n",
      "13  Midfielder     Germany  31.0          184   100      39     33  ...   \n",
      "24     Forward       Gabon  31.0           87    43      25     55  ...   \n",
      "29     Forward      Brazil  32.0          236   137      47     37  ...   \n",
      "76  Midfielder     England  32.0          198    98      50     30  ...   \n",
      "\n",
      "    Punches  High Claims  Catches  Sweeper clearances  Throw outs  Goal Kicks  \\\n",
      "10      0.0          0.0      0.0                 0.0         0.0         0.0   \n",
      "13      0.0          0.0      0.0                 0.0         0.0         0.0   \n",
      "24      0.0          0.0      0.0                 0.0         0.0         0.0   \n",
      "29      0.0          0.0      0.0                 0.0         0.0         0.0   \n",
      "76      0.0          0.0      0.0                 0.0         0.0         0.0   \n",
      "\n",
      "    Yellow cards  Red cards Fouls  Offsides  \n",
      "10            40          3   212       5.0  \n",
      "13            13          0    95      83.0  \n",
      "24             4          1    30      55.0  \n",
      "29            21          1   131      33.0  \n",
      "76            17          0   142      57.0  \n",
      "\n",
      "[5 rows x 59 columns]\n",
      "Number of Clusters = 3\n"
     ]
    }
   ],
   "source": [
    "outliers_df = df[model.labels_ == -1]\n",
    "clusters_df = df[model.labels_ != -1]\n",
    "\n",
    "colors = model.labels_\n",
    "colors_clusters = colors[colors != -1]\n",
    "color_outliers = 'black'\n",
    "\n",
    "clusters = Counter(model.labels_)\n",
    "print(clusters)\n",
    "print(df[model.labels_ == -1].head())\n",
    "print('Number of Clusters = {}'.format(len(clusters)-1))"
   ]
  },
  {
   "cell_type": "markdown",
   "metadata": {},
   "source": [
    "##### Didapat Total Cluster = 3"
   ]
  },
  {
   "cell_type": "code",
   "execution_count": 71,
   "metadata": {},
   "outputs": [
    {
     "data": {
      "image/png": "[encoded data removed]",
      "text/plain": [
       "<Figure size 432x288 with 1 Axes>"
      ]
     },
     "metadata": {
      "needs_background": "light"
     },
     "output_type": "display_data"
    }
   ],
   "source": [
    "fig = plt.figure()\n",
    "\n",
    "ax = fig.add_axes([.1, .1, 1, 1])\n",
    "\n",
    "ax.scatter(clusters_df['Age'], clusters_df['Goals'], c = colors_clusters, edgecolors = 'black', s = 50)\n",
    "ax.scatter(outliers_df['Age'], outliers_df['Goals'], c = color_outliers, edgecolors = 'black', s = 50)\n",
    "\n",
    "ax.set_xlabel('Age', family = 'Arial', fontsize = 9)\n",
    "ax.set_ylabel('Goals', family = 'Arial', fontsize = 9)\n",
    "\n",
    "plt.title('Hasil Clustering dengan DBSCAN Algorithm', family ='Arial', fontsize = 12)\n",
    "plt.grid(which = 'major', color = '#cccccc', alpha = 0.45)\n",
    "\n",
    "plt.show()"
   ]
  },
  {
   "cell_type": "code",
   "execution_count": null,
   "metadata": {},
   "outputs": [],
   "source": []
  }
 ],
 "metadata": {
  "kernelspec": {
   "display_name": "Python 3",
   "language": "python",
   "name": "python3"
  },
  "language_info": {
   "codemirror_mode": {
    "name": "ipython",
    "version": 3
   },
   "file_extension": ".py",
   "mimetype": "text/x-python",
   "name": "python",
   "nbconvert_exporter": "python",
   "pygments_lexer": "ipython3",
   "version": "3.8.5"
  }
 },
 "nbformat": 4,
 "nbformat_minor": 4
}
